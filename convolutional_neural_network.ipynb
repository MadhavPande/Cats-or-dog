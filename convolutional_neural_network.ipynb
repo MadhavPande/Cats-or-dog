{
 "cells": [
  {
   "cell_type": "markdown",
   "metadata": {
    "colab_type": "text",
    "id": "3DR-eO17geWu"
   },
   "source": [
    "# Convolutional Neural Network"
   ]
  },
  {
   "cell_type": "markdown",
   "metadata": {
    "colab_type": "text",
    "id": "EMefrVPCg-60"
   },
   "source": [
    "### Importing the libraries"
   ]
  },
  {
   "cell_type": "code",
   "execution_count": 1,
   "metadata": {},
   "outputs": [],
   "source": [
    "import tensorflow as tf\n",
    "from keras.preprocessing.image import ImageDataGenerator"
   ]
  },
  {
   "cell_type": "code",
   "execution_count": 2,
   "metadata": {},
   "outputs": [
    {
     "data": {
      "text/plain": [
       "'2.7.0'"
      ]
     },
     "execution_count": 2,
     "metadata": {},
     "output_type": "execute_result"
    }
   ],
   "source": [
    "tf.__version__"
   ]
  },
  {
   "cell_type": "markdown",
   "metadata": {
    "colab_type": "text",
    "id": "oxQxCBWyoGPE"
   },
   "source": [
    "## Part 1 - Data Preprocessing"
   ]
  },
  {
   "cell_type": "markdown",
   "metadata": {
    "colab_type": "text",
    "id": "MvE-heJNo3GG"
   },
   "source": [
    "### Preprocessing the Training set"
   ]
  },
  {
   "cell_type": "code",
   "execution_count": 3,
   "metadata": {},
   "outputs": [
    {
     "name": "stdout",
     "output_type": "stream",
     "text": [
      "Found 8000 images belonging to 2 classes.\n"
     ]
    }
   ],
   "source": [
    "#image augmenttion: Augmenting variety to training dataset\n",
    "train_datagen = ImageDataGenerator(\n",
    "    rescale = 1./255,\n",
    "    shear_range = 0.2,\n",
    "    zoom_range = 0.2,\n",
    "    horizontal_flip = True)\n",
    "\n",
    "training_set = train_datagen.flow_from_directory(\n",
    "    'D:\\Deep Learning\\ANN Project\\Machine+Learning+A-Z+(Codes+and+Datasets)\\Machine Learning A-Z (Codes and Datasets)\\Part 8 - Deep Learning\\Section 40 - Convolutional Neural Networks (CNN)\\Python\\Section+40+-+Convolutional+Neural+Networks+(CNN)\\Section 40 - Convolutional Neural Networks (CNN)\\dataset/training_set',\n",
    "    target_size = (64,64),\n",
    "    batch_size = 32,\n",
    "    class_mode = 'binary')"
   ]
  },
  {
   "cell_type": "markdown",
   "metadata": {
    "colab_type": "text",
    "id": "mrCMmGw9pHys"
   },
   "source": [
    "### Preprocessing the Test set"
   ]
  },
  {
   "cell_type": "code",
   "execution_count": 4,
   "metadata": {},
   "outputs": [
    {
     "name": "stdout",
     "output_type": "stream",
     "text": [
      "Found 2000 images belonging to 2 classes.\n"
     ]
    }
   ],
   "source": [
    "test_datagen = ImageDataGenerator(rescale = 1./255)\n",
    "test_set = test_datagen.flow_from_directory(\n",
    "    'D:\\Deep Learning\\ANN Project\\Machine+Learning+A-Z+(Codes+and+Datasets)\\Machine Learning A-Z (Codes and Datasets)\\Part 8 - Deep Learning\\Section 40 - Convolutional Neural Networks (CNN)\\Python\\Section+40+-+Convolutional+Neural+Networks+(CNN)\\Section 40 - Convolutional Neural Networks (CNN)\\dataset/test_set',\n",
    "    target_size = (64,64),\n",
    "    batch_size = 32,\n",
    "    class_mode = 'binary')"
   ]
  },
  {
   "cell_type": "markdown",
   "metadata": {
    "colab_type": "text",
    "id": "af8O4l90gk7B"
   },
   "source": [
    "## Part 2 - Building the CNN"
   ]
  },
  {
   "cell_type": "markdown",
   "metadata": {
    "colab_type": "text",
    "id": "ces1gXY2lmoX"
   },
   "source": [
    "### Initialising the CNN"
   ]
  },
  {
   "cell_type": "code",
   "execution_count": 5,
   "metadata": {},
   "outputs": [],
   "source": [
    "cnn = tf.keras.models.Sequential()"
   ]
  },
  {
   "cell_type": "markdown",
   "metadata": {
    "colab_type": "text",
    "id": "u5YJj_XMl5LF"
   },
   "source": [
    "### Step 1 - Convolution"
   ]
  },
  {
   "cell_type": "code",
   "execution_count": 6,
   "metadata": {},
   "outputs": [],
   "source": [
    "cnn.add(tf.keras.layers.Conv2D(filters = 32, kernel_size = 3, activation = 'relu', input_shape = [64,64,3]))"
   ]
  },
  {
   "cell_type": "markdown",
   "metadata": {
    "colab_type": "text",
    "id": "tf87FpvxmNOJ"
   },
   "source": [
    "### Step 2 - Pooling"
   ]
  },
  {
   "cell_type": "code",
   "execution_count": 7,
   "metadata": {},
   "outputs": [],
   "source": [
    "cnn.add(tf.keras.layers.MaxPool2D(pool_size = 2, strides = 2))"
   ]
  },
  {
   "cell_type": "markdown",
   "metadata": {
    "colab_type": "text",
    "id": "xaTOgD8rm4mU"
   },
   "source": [
    "### Adding a second convolutional layer"
   ]
  },
  {
   "cell_type": "code",
   "execution_count": 8,
   "metadata": {},
   "outputs": [],
   "source": [
    "cnn.add(tf.keras.layers.Conv2D(filters = 32, kernel_size = 3, activation = 'relu'))\n",
    "cnn.add(tf.keras.layers.MaxPool2D(pool_size = 2, strides = 2))"
   ]
  },
  {
   "cell_type": "markdown",
   "metadata": {
    "colab_type": "text",
    "id": "tmiEuvTunKfk"
   },
   "source": [
    "### Step 3 - Flattening"
   ]
  },
  {
   "cell_type": "code",
   "execution_count": 9,
   "metadata": {},
   "outputs": [],
   "source": [
    "cnn.add(tf.keras.layers.Flatten())"
   ]
  },
  {
   "cell_type": "markdown",
   "metadata": {
    "colab_type": "text",
    "id": "dAoSECOm203v"
   },
   "source": [
    "### Step 4 - Full Connection"
   ]
  },
  {
   "cell_type": "code",
   "execution_count": 10,
   "metadata": {},
   "outputs": [],
   "source": [
    "cnn.add(tf.keras.layers.Dense(units = 128, activation ='relu'))"
   ]
  },
  {
   "cell_type": "markdown",
   "metadata": {
    "colab_type": "text",
    "id": "yTldFvbX28Na"
   },
   "source": [
    "### Step 5 - Output Layer"
   ]
  },
  {
   "cell_type": "code",
   "execution_count": 11,
   "metadata": {},
   "outputs": [],
   "source": [
    "cnn.add(tf.keras.layers.Dense(units = 1, activation ='sigmoid'))"
   ]
  },
  {
   "cell_type": "markdown",
   "metadata": {
    "colab_type": "text",
    "id": "D6XkI90snSDl"
   },
   "source": [
    "## Part 3 - Training the CNN"
   ]
  },
  {
   "cell_type": "markdown",
   "metadata": {
    "colab_type": "text",
    "id": "vfrFQACEnc6i"
   },
   "source": [
    "### Compiling the CNN"
   ]
  },
  {
   "cell_type": "code",
   "execution_count": 12,
   "metadata": {},
   "outputs": [],
   "source": [
    "cnn.compile(optimizer= 'adam',loss='binary_crossentropy', metrics = ['accuracy'])"
   ]
  },
  {
   "cell_type": "markdown",
   "metadata": {
    "colab_type": "text",
    "id": "ehS-v3MIpX2h"
   },
   "source": [
    "### Training the CNN on the Training set and evaluating it on the Test set"
   ]
  },
  {
   "cell_type": "code",
   "execution_count": 13,
   "metadata": {},
   "outputs": [
    {
     "name": "stdout",
     "output_type": "stream",
     "text": [
      "Epoch 1/25\n",
      "250/250 [==============================] - 261s 1s/step - loss: 0.6803 - accuracy: 0.5639 - val_loss: 0.6368 - val_accuracy: 0.6435\n",
      "Epoch 2/25\n",
      "250/250 [==============================] - 28s 111ms/step - loss: 0.6121 - accuracy: 0.6609 - val_loss: 0.5633 - val_accuracy: 0.7060\n",
      "Epoch 3/25\n",
      "250/250 [==============================] - 28s 114ms/step - loss: 0.5706 - accuracy: 0.7035 - val_loss: 0.5300 - val_accuracy: 0.7345\n",
      "Epoch 4/25\n",
      "250/250 [==============================] - 29s 116ms/step - loss: 0.5451 - accuracy: 0.7207 - val_loss: 0.5281 - val_accuracy: 0.7320\n",
      "Epoch 5/25\n",
      "250/250 [==============================] - 28s 111ms/step - loss: 0.5281 - accuracy: 0.7336 - val_loss: 0.4951 - val_accuracy: 0.7580\n",
      "Epoch 6/25\n",
      "250/250 [==============================] - 27s 110ms/step - loss: 0.5012 - accuracy: 0.7574 - val_loss: 0.4907 - val_accuracy: 0.7635\n",
      "Epoch 7/25\n",
      "250/250 [==============================] - 27s 110ms/step - loss: 0.4876 - accuracy: 0.7669 - val_loss: 0.4823 - val_accuracy: 0.7655\n",
      "Epoch 8/25\n",
      "250/250 [==============================] - 28s 111ms/step - loss: 0.4736 - accuracy: 0.7711 - val_loss: 0.4813 - val_accuracy: 0.7690\n",
      "Epoch 9/25\n",
      "250/250 [==============================] - 28s 111ms/step - loss: 0.4572 - accuracy: 0.7839 - val_loss: 0.4627 - val_accuracy: 0.7865\n",
      "Epoch 10/25\n",
      "250/250 [==============================] - 28s 113ms/step - loss: 0.4462 - accuracy: 0.7865 - val_loss: 0.4604 - val_accuracy: 0.7845\n",
      "Epoch 11/25\n",
      "250/250 [==============================] - 29s 115ms/step - loss: 0.4278 - accuracy: 0.8002 - val_loss: 0.4509 - val_accuracy: 0.7920\n",
      "Epoch 12/25\n",
      "250/250 [==============================] - 28s 113ms/step - loss: 0.4236 - accuracy: 0.8014 - val_loss: 0.4804 - val_accuracy: 0.7825\n",
      "Epoch 13/25\n",
      "250/250 [==============================] - 27s 110ms/step - loss: 0.4024 - accuracy: 0.8148 - val_loss: 0.5552 - val_accuracy: 0.7440\n",
      "Epoch 14/25\n",
      "250/250 [==============================] - 28s 112ms/step - loss: 0.3896 - accuracy: 0.8190 - val_loss: 0.4858 - val_accuracy: 0.7770\n",
      "Epoch 15/25\n",
      "250/250 [==============================] - 28s 112ms/step - loss: 0.3821 - accuracy: 0.8275 - val_loss: 0.4655 - val_accuracy: 0.7855\n",
      "Epoch 16/25\n",
      "250/250 [==============================] - 29s 115ms/step - loss: 0.3706 - accuracy: 0.8361 - val_loss: 0.5101 - val_accuracy: 0.7775\n",
      "Epoch 17/25\n",
      "250/250 [==============================] - 28s 112ms/step - loss: 0.3619 - accuracy: 0.8396 - val_loss: 0.4727 - val_accuracy: 0.7985\n",
      "Epoch 18/25\n",
      "250/250 [==============================] - 28s 113ms/step - loss: 0.3434 - accuracy: 0.8469 - val_loss: 0.4937 - val_accuracy: 0.7900\n",
      "Epoch 19/25\n",
      "250/250 [==============================] - 28s 111ms/step - loss: 0.3355 - accuracy: 0.8526 - val_loss: 0.5026 - val_accuracy: 0.7885\n",
      "Epoch 20/25\n",
      "250/250 [==============================] - 28s 111ms/step - loss: 0.3168 - accuracy: 0.8629 - val_loss: 0.5073 - val_accuracy: 0.7950\n",
      "Epoch 21/25\n",
      "250/250 [==============================] - 27s 110ms/step - loss: 0.3120 - accuracy: 0.8639 - val_loss: 0.4885 - val_accuracy: 0.8075\n",
      "Epoch 22/25\n",
      "250/250 [==============================] - 28s 111ms/step - loss: 0.2992 - accuracy: 0.8742 - val_loss: 0.4895 - val_accuracy: 0.7960\n",
      "Epoch 23/25\n",
      "250/250 [==============================] - 28s 110ms/step - loss: 0.2947 - accuracy: 0.8755 - val_loss: 0.5197 - val_accuracy: 0.7860\n",
      "Epoch 24/25\n",
      "250/250 [==============================] - 28s 110ms/step - loss: 0.2824 - accuracy: 0.8795 - val_loss: 0.5283 - val_accuracy: 0.7990\n",
      "Epoch 25/25\n",
      "250/250 [==============================] - 28s 110ms/step - loss: 0.2742 - accuracy: 0.8820 - val_loss: 0.5660 - val_accuracy: 0.7915\n"
     ]
    },
    {
     "data": {
      "text/plain": [
       "<keras.callbacks.History at 0x1f441de7490>"
      ]
     },
     "execution_count": 13,
     "metadata": {},
     "output_type": "execute_result"
    }
   ],
   "source": [
    "cnn.fit(x = training_set, validation_data= test_set,epochs=25)"
   ]
  },
  {
   "cell_type": "markdown",
   "metadata": {
    "colab_type": "text",
    "id": "U3PZasO0006Z"
   },
   "source": [
    "## Part 4 - Making a single prediction"
   ]
  },
  {
   "cell_type": "code",
   "execution_count": 14,
   "metadata": {},
   "outputs": [],
   "source": [
    "import numpy as np\n",
    "from keras.preprocessing import image\n",
    "test_image = image.load_img('D:\\Deep Learning\\ANN Project\\Machine+Learning+A-Z+(Codes+and+Datasets)\\Machine Learning A-Z (Codes and Datasets)\\Part 8 - Deep Learning\\Section 40 - Convolutional Neural Networks (CNN)\\Python\\Section+40+-+Convolutional+Neural+Networks+(CNN)\\Section 40 - Convolutional Neural Networks (CNN)\\dataset\\single_prediction\\cat_or_dog_2.jpg',target_size= (64,64))\n",
    "test_imageage = image.img_to_array(test_image)\n",
    "test_image = np.expand_dims(test_image, axis =0)\n",
    "result = cnn.predict(test_image/255.0)\n",
    "training_set.class_indices\n",
    "if result[0][0] > 0.5:\n",
    "    prediction = 'dog'\n",
    "else:\n",
    "    prediction = 'cat'"
   ]
  },
  {
   "cell_type": "code",
   "execution_count": 15,
   "metadata": {},
   "outputs": [
    {
     "name": "stdout",
     "output_type": "stream",
     "text": [
      "cat\n"
     ]
    }
   ],
   "source": [
    "print(prediction)"
   ]
  },
  {
   "cell_type": "code",
   "execution_count": null,
   "metadata": {},
   "outputs": [],
   "source": []
  }
 ],
 "metadata": {
  "colab": {
   "collapsed_sections": [],
   "name": "convolutional_neural_network.ipynb",
   "provenance": [],
   "toc_visible": true
  },
  "kernelspec": {
   "display_name": "Python 3 (ipykernel)",
   "language": "python",
   "name": "python3"
  },
  "language_info": {
   "codemirror_mode": {
    "name": "ipython",
    "version": 3
   },
   "file_extension": ".py",
   "mimetype": "text/x-python",
   "name": "python",
   "nbconvert_exporter": "python",
   "pygments_lexer": "ipython3",
   "version": "3.9.2"
  }
 },
 "nbformat": 4,
 "nbformat_minor": 1
}
